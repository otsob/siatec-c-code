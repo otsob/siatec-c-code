{
 "cells": [
  {
   "cell_type": "code",
   "execution_count": null,
   "id": "f53b2893",
   "metadata": {},
   "outputs": [],
   "source": [
    "from musii_kit.pattern_data.pattern_set import PatternSet\n",
    "from musii_kit.pattern_data.evaluator import Evaluator\n",
    "from musii_kit.pattern_data.jku_pdd import JkuPdd\n",
    "\n",
    "jku_pdd_path = '/Users/otsobjorklund/datasets/music/jku-pdd/JKUPDD-Aug2013/groundTruth'\n",
    "algorithm_output_path = '/Users/otsobjorklund/Desktop/posemir_cli_output/'\n",
    "\n",
    "jku_pdd_poly = JkuPdd(jku_pdd_path, ['polyphonic'])\n",
    "jku_pdd_poly_eval = Evaluator(jku_pdd_poly)\n",
    "\n",
    "def evaluate_poly(path):\n",
    "    output = PatternSet(path)\n",
    "    return jku_pdd_poly_eval.evaluate(output)\n",
    "\n",
    "jku_pdd_mono = JkuPdd(jku_pdd_path, ['monophonic'])\n",
    "jku_pdd_mono_eval = Evaluator(jku_pdd_mono)\n",
    "\n",
    "def evaluate_mono(path):\n",
    "    output = PatternSet(path)\n",
    "    return jku_pdd_mono_eval.evaluate(output)"
   ]
  },
  {
   "cell_type": "code",
   "execution_count": null,
   "id": "dcf98a1b",
   "metadata": {},
   "outputs": [],
   "source": [
    "evaluate_poly(algorithm_output_path + 'SIATEC_polyphonic')"
   ]
  },
  {
   "cell_type": "code",
   "execution_count": null,
   "id": "5d5fa620",
   "metadata": {},
   "outputs": [],
   "source": [
    "evaluate_poly(algorithm_output_path + 'SIATEC-C_polyphonic')"
   ]
  },
  {
   "cell_type": "code",
   "execution_count": null,
   "id": "d2b26544",
   "metadata": {},
   "outputs": [],
   "source": [
    "evaluate_poly(algorithm_output_path + 'COSIATEC_polyphonic')"
   ]
  },
  {
   "cell_type": "code",
   "execution_count": null,
   "id": "e1b29c60",
   "metadata": {},
   "outputs": [],
   "source": [
    "evaluate_poly(algorithm_output_path + 'COSIATEC-C_polyphonic')"
   ]
  },
  {
   "cell_type": "code",
   "execution_count": null,
   "id": "5d9267c5",
   "metadata": {
    "scrolled": true
   },
   "outputs": [],
   "source": [
    "evaluate_poly(algorithm_output_path + 'SIATECCompress_polyphonic')"
   ]
  },
  {
   "cell_type": "code",
   "execution_count": null,
   "id": "3f0c2bca",
   "metadata": {},
   "outputs": [],
   "source": [
    "evaluate_poly(algorithm_output_path + 'SIATEC-CCompress_polyphonic')"
   ]
  }
 ],
 "metadata": {
  "kernelspec": {
   "display_name": "musii-kit",
   "language": "python",
   "name": "musii-kit"
  },
  "language_info": {
   "codemirror_mode": {
    "name": "ipython",
    "version": 3
   },
   "file_extension": ".py",
   "mimetype": "text/x-python",
   "name": "python",
   "nbconvert_exporter": "python",
   "pygments_lexer": "ipython3",
   "version": "3.8.12"
  }
 },
 "nbformat": 4,
 "nbformat_minor": 5
}
