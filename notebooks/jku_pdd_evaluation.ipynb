{
 "cells": [
  {
   "cell_type": "code",
   "execution_count": null,
   "id": "9a61a165",
   "metadata": {},
   "outputs": [],
   "source": [
    "from musii_kit.pattern_data.pattern_set import PatternSet\n",
    "from musii_kit.pattern_data.evaluator import Evaluator\n",
    "from musii_kit.pattern_data.jku_pdd import JkuPdd\n",
    "\n",
    "jku_pdd_path = '../jku-pdd/JKUPDD-Aug2013/groundTruth'\n",
    "algorithm_output_path = '../output/'\n",
    "\n",
    "jku_pdd_poly = JkuPdd(jku_pdd_path, ['polyphonic'])\n",
    "jku_pdd_poly_eval = Evaluator(jku_pdd_poly)\n",
    "\n",
    "jku_pdd_mono = JkuPdd(jku_pdd_path, ['monophonic'])\n",
    "jku_pdd_mono_eval = Evaluator(jku_pdd_poly)\n",
    "\n",
    "def evaluate(evaluator, path):\n",
    "    output = PatternSet(path)\n",
    "    df = jku_pdd_poly_eval.evaluate(output)\n",
    "    df.to_csv(path + '_jku_pdd_summary.csv', float_format= '%.3f')\n",
    "    df.style.format(precision=3).to_latex(path + '_jku_pdd_summary.tex')\n",
    "    return df"
   ]
  },
  {
   "cell_type": "code",
   "execution_count": null,
   "id": "90569ed6",
   "metadata": {},
   "outputs": [],
   "source": [
    "evaluate(jku_pdd_poly_eval, algorithm_output_path + 'SIATEC_polyphonic')"
   ]
  },
  {
   "cell_type": "code",
   "execution_count": null,
   "id": "5d5fa620",
   "metadata": {},
   "outputs": [],
   "source": [
    "evaluate(jku_pdd_poly_eval, algorithm_output_path + 'SIATEC-C_polyphonic')"
   ]
  },
  {
   "cell_type": "code",
   "execution_count": null,
   "id": "d2b26544",
   "metadata": {},
   "outputs": [],
   "source": [
    "evaluate(jku_pdd_poly_eval, algorithm_output_path + 'COSIATEC_polyphonic')"
   ]
  },
  {
   "cell_type": "code",
   "execution_count": null,
   "id": "e1b29c60",
   "metadata": {},
   "outputs": [],
   "source": [
    "evaluate(jku_pdd_poly_eval, algorithm_output_path + 'COSIATEC-C_polyphonic')"
   ]
  },
  {
   "cell_type": "code",
   "execution_count": null,
   "id": "5d9267c5",
   "metadata": {
    "scrolled": true
   },
   "outputs": [],
   "source": [
    "evaluate(jku_pdd_poly_eval, algorithm_output_path + 'SIATECCompress_polyphonic')"
   ]
  },
  {
   "cell_type": "code",
   "execution_count": null,
   "id": "fdb1d705",
   "metadata": {},
   "outputs": [],
   "source": [
    "evaluate(jku_pdd_poly_eval, algorithm_output_path + 'SIATEC-CCompress_polyphonic')"
   ]
  },
  {
   "cell_type": "code",
   "execution_count": null,
   "id": "34cd6d45",
   "metadata": {},
   "outputs": [],
   "source": [
    "evaluate(jku_pdd_mono_eval, algorithm_output_path + 'SIATEC_monophonic')"
   ]
  },
  {
   "cell_type": "code",
   "execution_count": null,
   "id": "b35f842e",
   "metadata": {},
   "outputs": [],
   "source": [
    "evaluate(jku_pdd_mono_eval, algorithm_output_path + 'SIATEC-C_monophonic')"
   ]
  },
  {
   "cell_type": "code",
   "execution_count": null,
   "id": "c3bf2120",
   "metadata": {},
   "outputs": [],
   "source": [
    "evaluate(jku_pdd_mono_eval, algorithm_output_path + 'COSIATEC_monophonic')"
   ]
  },
  {
   "cell_type": "code",
   "execution_count": null,
   "id": "7cf594d3",
   "metadata": {},
   "outputs": [],
   "source": [
    "evaluate(jku_pdd_mono_eval, algorithm_output_path + 'COSIATEC-C_monophonic')"
   ]
  },
  {
   "cell_type": "code",
   "execution_count": null,
   "id": "64bcced1",
   "metadata": {},
   "outputs": [],
   "source": [
    "evaluate(jku_pdd_mono_eval, algorithm_output_path + 'SIATECCompress_monophonic')"
   ]
  },
  {
   "cell_type": "code",
   "execution_count": null,
   "id": "ab67824d",
   "metadata": {},
   "outputs": [],
   "source": [
    "evaluate(jku_pdd_mono_eval, algorithm_output_path + 'SIATEC-CCompress_monophonic')"
   ]
  }
 ],
 "metadata": {
  "kernelspec": {
   "display_name": "musii-kit",
   "language": "python",
   "name": "musii-kit"
  },
  "language_info": {
   "codemirror_mode": {
    "name": "ipython",
    "version": 3
   },
   "file_extension": ".py",
   "mimetype": "text/x-python",
   "name": "python",
   "nbconvert_exporter": "python",
   "pygments_lexer": "ipython3",
   "version": "3.8.12"
  }
 },
 "nbformat": 4,
 "nbformat_minor": 5
}
